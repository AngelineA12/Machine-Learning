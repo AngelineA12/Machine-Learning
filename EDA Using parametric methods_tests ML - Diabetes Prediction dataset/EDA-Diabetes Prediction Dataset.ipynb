{
  "nbformat": 4,
  "nbformat_minor": 0,
  "metadata": {
    "colab": {
      "provenance": []
    },
    "kernelspec": {
      "name": "python3",
      "display_name": "Python 3"
    },
    "language_info": {
      "name": "python"
    }
  },
  "cells": [
    {
      "cell_type": "markdown",
      "source": [
        "**Lab 01- Exploratory Data Analysis**\n",
        "\n",
        "* *Created by: Angeline A*\n",
        "* *Reg No: 2348409*\n",
        "\n",
        "* Edited on: 15/02/2024\n"
      ],
      "metadata": {
        "id": "WRza0-lMSbwm"
      }
    },
    {
      "cell_type": "markdown",
      "source": [
        "*In the below code, we are importing necessary python packages to perform the EDA process*"
      ],
      "metadata": {
        "id": "WGBmEMGPTV-x"
      }
    },
    {
      "cell_type": "markdown",
      "source": [
        "* *numpy* is imported to perform mathematical operations\n",
        "* *pandas* is impoted to perform data analysis and manipulation\n",
        "* *matplotlib.pyplot* is imported to get a collection of command style functions that make matplotlib work like MATLAB\n",
        "* *seaborn* is imported to help us in understanding the data with the help of plotting\n",
        "* *plotly.express* is imported to visualize a variety of data"
      ],
      "metadata": {
        "id": "bnOMjd_ATnN0"
      }
    },
    {
      "cell_type": "code",
      "source": [
        "import numpy as np\n",
        "import pandas as pd\n",
        "import matplotlib.pyplot as plt\n",
        "import seaborn as sns\n",
        "import plotly.express as px\n",
        "from scipy import stats"
      ],
      "metadata": {
        "id": "G539x8MoS7Jf"
      },
      "execution_count": 3,
      "outputs": []
    },
    {
      "cell_type": "markdown",
      "source": [
        "In the below code, the dataset uploaded is read and stored"
      ],
      "metadata": {
        "id": "6T617boRVEro"
      }
    },
    {
      "cell_type": "code",
      "source": [
        "df = pd.read_csv(\"/content/Diabetes_prediction.csv\")\n",
        "df"
      ],
      "metadata": {
        "colab": {
          "base_uri": "https://localhost:8080/",
          "height": 582
        },
        "id": "UB1AEJDATiBb",
        "outputId": "e044ee23-b574-4ccc-ea1b-038b7d057966"
      },
      "execution_count": 4,
      "outputs": [
        {
          "output_type": "execute_result",
          "data": {
            "text/plain": [
              "               EmployeeName Patient_id  gender   age  hypertension  \\\n",
              "0            NATHANIEL FORD      PT101  Female  80.0           0.0   \n",
              "1              GARY JIMENEZ      PT102  Female  54.0           0.0   \n",
              "2            ALBERT PARDINI      PT103    Male  28.0           0.0   \n",
              "3         CHRISTOPHER CHONG      PT104  Female  36.0           0.0   \n",
              "4           PATRICK GARDNER      PT105    Male  76.0           1.0   \n",
              "...                     ...        ...     ...   ...           ...   \n",
              "35810  WOLFGANG WACHALOVSKY    PT35911  Female  47.0           0.0   \n",
              "35811         ROBERTO LUCHA    PT35912    Male  48.0           0.0   \n",
              "35812        LALINA BINALEY    PT35913  Female  59.0           0.0   \n",
              "35813        NEAL CAVELLINI    PT35914  Female  80.0           0.0   \n",
              "35814                   EME        NaN     NaN   NaN           NaN   \n",
              "\n",
              "       heart_disease smoking_history    bmi  HbA1c_level  blood_glucose_level  \\\n",
              "0                1.0           never  25.19          6.6                140.0   \n",
              "1                0.0         No Info  27.32          6.6                 80.0   \n",
              "2                0.0           never  27.32          5.7                158.0   \n",
              "3                0.0         current  23.45          5.0                155.0   \n",
              "4                1.0         current  20.14          4.8                155.0   \n",
              "...              ...             ...    ...          ...                  ...   \n",
              "35810            0.0          former  24.84          3.5                145.0   \n",
              "35811            0.0           never  53.97          9.0                280.0   \n",
              "35812            0.0           never  27.32          6.0                145.0   \n",
              "35813            1.0         No Info  30.42          4.8                200.0   \n",
              "35814            NaN             NaN    NaN          NaN                  NaN   \n",
              "\n",
              "       diabetes  \n",
              "0           0.0  \n",
              "1           0.0  \n",
              "2           0.0  \n",
              "3           0.0  \n",
              "4           0.0  \n",
              "...         ...  \n",
              "35810       0.0  \n",
              "35811       1.0  \n",
              "35812       0.0  \n",
              "35813       0.0  \n",
              "35814       NaN  \n",
              "\n",
              "[35815 rows x 11 columns]"
            ],
            "text/html": [
              "\n",
              "  <div id=\"df-f94222ec-c251-4bb1-ba26-7cef57496d41\" class=\"colab-df-container\">\n",
              "    <div>\n",
              "<style scoped>\n",
              "    .dataframe tbody tr th:only-of-type {\n",
              "        vertical-align: middle;\n",
              "    }\n",
              "\n",
              "    .dataframe tbody tr th {\n",
              "        vertical-align: top;\n",
              "    }\n",
              "\n",
              "    .dataframe thead th {\n",
              "        text-align: right;\n",
              "    }\n",
              "</style>\n",
              "<table border=\"1\" class=\"dataframe\">\n",
              "  <thead>\n",
              "    <tr style=\"text-align: right;\">\n",
              "      <th></th>\n",
              "      <th>EmployeeName</th>\n",
              "      <th>Patient_id</th>\n",
              "      <th>gender</th>\n",
              "      <th>age</th>\n",
              "      <th>hypertension</th>\n",
              "      <th>heart_disease</th>\n",
              "      <th>smoking_history</th>\n",
              "      <th>bmi</th>\n",
              "      <th>HbA1c_level</th>\n",
              "      <th>blood_glucose_level</th>\n",
              "      <th>diabetes</th>\n",
              "    </tr>\n",
              "  </thead>\n",
              "  <tbody>\n",
              "    <tr>\n",
              "      <th>0</th>\n",
              "      <td>NATHANIEL FORD</td>\n",
              "      <td>PT101</td>\n",
              "      <td>Female</td>\n",
              "      <td>80.0</td>\n",
              "      <td>0.0</td>\n",
              "      <td>1.0</td>\n",
              "      <td>never</td>\n",
              "      <td>25.19</td>\n",
              "      <td>6.6</td>\n",
              "      <td>140.0</td>\n",
              "      <td>0.0</td>\n",
              "    </tr>\n",
              "    <tr>\n",
              "      <th>1</th>\n",
              "      <td>GARY JIMENEZ</td>\n",
              "      <td>PT102</td>\n",
              "      <td>Female</td>\n",
              "      <td>54.0</td>\n",
              "      <td>0.0</td>\n",
              "      <td>0.0</td>\n",
              "      <td>No Info</td>\n",
              "      <td>27.32</td>\n",
              "      <td>6.6</td>\n",
              "      <td>80.0</td>\n",
              "      <td>0.0</td>\n",
              "    </tr>\n",
              "    <tr>\n",
              "      <th>2</th>\n",
              "      <td>ALBERT PARDINI</td>\n",
              "      <td>PT103</td>\n",
              "      <td>Male</td>\n",
              "      <td>28.0</td>\n",
              "      <td>0.0</td>\n",
              "      <td>0.0</td>\n",
              "      <td>never</td>\n",
              "      <td>27.32</td>\n",
              "      <td>5.7</td>\n",
              "      <td>158.0</td>\n",
              "      <td>0.0</td>\n",
              "    </tr>\n",
              "    <tr>\n",
              "      <th>3</th>\n",
              "      <td>CHRISTOPHER CHONG</td>\n",
              "      <td>PT104</td>\n",
              "      <td>Female</td>\n",
              "      <td>36.0</td>\n",
              "      <td>0.0</td>\n",
              "      <td>0.0</td>\n",
              "      <td>current</td>\n",
              "      <td>23.45</td>\n",
              "      <td>5.0</td>\n",
              "      <td>155.0</td>\n",
              "      <td>0.0</td>\n",
              "    </tr>\n",
              "    <tr>\n",
              "      <th>4</th>\n",
              "      <td>PATRICK GARDNER</td>\n",
              "      <td>PT105</td>\n",
              "      <td>Male</td>\n",
              "      <td>76.0</td>\n",
              "      <td>1.0</td>\n",
              "      <td>1.0</td>\n",
              "      <td>current</td>\n",
              "      <td>20.14</td>\n",
              "      <td>4.8</td>\n",
              "      <td>155.0</td>\n",
              "      <td>0.0</td>\n",
              "    </tr>\n",
              "    <tr>\n",
              "      <th>...</th>\n",
              "      <td>...</td>\n",
              "      <td>...</td>\n",
              "      <td>...</td>\n",
              "      <td>...</td>\n",
              "      <td>...</td>\n",
              "      <td>...</td>\n",
              "      <td>...</td>\n",
              "      <td>...</td>\n",
              "      <td>...</td>\n",
              "      <td>...</td>\n",
              "      <td>...</td>\n",
              "    </tr>\n",
              "    <tr>\n",
              "      <th>35810</th>\n",
              "      <td>WOLFGANG WACHALOVSKY</td>\n",
              "      <td>PT35911</td>\n",
              "      <td>Female</td>\n",
              "      <td>47.0</td>\n",
              "      <td>0.0</td>\n",
              "      <td>0.0</td>\n",
              "      <td>former</td>\n",
              "      <td>24.84</td>\n",
              "      <td>3.5</td>\n",
              "      <td>145.0</td>\n",
              "      <td>0.0</td>\n",
              "    </tr>\n",
              "    <tr>\n",
              "      <th>35811</th>\n",
              "      <td>ROBERTO LUCHA</td>\n",
              "      <td>PT35912</td>\n",
              "      <td>Male</td>\n",
              "      <td>48.0</td>\n",
              "      <td>0.0</td>\n",
              "      <td>0.0</td>\n",
              "      <td>never</td>\n",
              "      <td>53.97</td>\n",
              "      <td>9.0</td>\n",
              "      <td>280.0</td>\n",
              "      <td>1.0</td>\n",
              "    </tr>\n",
              "    <tr>\n",
              "      <th>35812</th>\n",
              "      <td>LALINA BINALEY</td>\n",
              "      <td>PT35913</td>\n",
              "      <td>Female</td>\n",
              "      <td>59.0</td>\n",
              "      <td>0.0</td>\n",
              "      <td>0.0</td>\n",
              "      <td>never</td>\n",
              "      <td>27.32</td>\n",
              "      <td>6.0</td>\n",
              "      <td>145.0</td>\n",
              "      <td>0.0</td>\n",
              "    </tr>\n",
              "    <tr>\n",
              "      <th>35813</th>\n",
              "      <td>NEAL CAVELLINI</td>\n",
              "      <td>PT35914</td>\n",
              "      <td>Female</td>\n",
              "      <td>80.0</td>\n",
              "      <td>0.0</td>\n",
              "      <td>1.0</td>\n",
              "      <td>No Info</td>\n",
              "      <td>30.42</td>\n",
              "      <td>4.8</td>\n",
              "      <td>200.0</td>\n",
              "      <td>0.0</td>\n",
              "    </tr>\n",
              "    <tr>\n",
              "      <th>35814</th>\n",
              "      <td>EME</td>\n",
              "      <td>NaN</td>\n",
              "      <td>NaN</td>\n",
              "      <td>NaN</td>\n",
              "      <td>NaN</td>\n",
              "      <td>NaN</td>\n",
              "      <td>NaN</td>\n",
              "      <td>NaN</td>\n",
              "      <td>NaN</td>\n",
              "      <td>NaN</td>\n",
              "      <td>NaN</td>\n",
              "    </tr>\n",
              "  </tbody>\n",
              "</table>\n",
              "<p>35815 rows × 11 columns</p>\n",
              "</div>\n",
              "    <div class=\"colab-df-buttons\">\n",
              "\n",
              "  <div class=\"colab-df-container\">\n",
              "    <button class=\"colab-df-convert\" onclick=\"convertToInteractive('df-f94222ec-c251-4bb1-ba26-7cef57496d41')\"\n",
              "            title=\"Convert this dataframe to an interactive table.\"\n",
              "            style=\"display:none;\">\n",
              "\n",
              "  <svg xmlns=\"http://www.w3.org/2000/svg\" height=\"24px\" viewBox=\"0 -960 960 960\">\n",
              "    <path d=\"M120-120v-720h720v720H120Zm60-500h600v-160H180v160Zm220 220h160v-160H400v160Zm0 220h160v-160H400v160ZM180-400h160v-160H180v160Zm440 0h160v-160H620v160ZM180-180h160v-160H180v160Zm440 0h160v-160H620v160Z\"/>\n",
              "  </svg>\n",
              "    </button>\n",
              "\n",
              "  <style>\n",
              "    .colab-df-container {\n",
              "      display:flex;\n",
              "      gap: 12px;\n",
              "    }\n",
              "\n",
              "    .colab-df-convert {\n",
              "      background-color: #E8F0FE;\n",
              "      border: none;\n",
              "      border-radius: 50%;\n",
              "      cursor: pointer;\n",
              "      display: none;\n",
              "      fill: #1967D2;\n",
              "      height: 32px;\n",
              "      padding: 0 0 0 0;\n",
              "      width: 32px;\n",
              "    }\n",
              "\n",
              "    .colab-df-convert:hover {\n",
              "      background-color: #E2EBFA;\n",
              "      box-shadow: 0px 1px 2px rgba(60, 64, 67, 0.3), 0px 1px 3px 1px rgba(60, 64, 67, 0.15);\n",
              "      fill: #174EA6;\n",
              "    }\n",
              "\n",
              "    .colab-df-buttons div {\n",
              "      margin-bottom: 4px;\n",
              "    }\n",
              "\n",
              "    [theme=dark] .colab-df-convert {\n",
              "      background-color: #3B4455;\n",
              "      fill: #D2E3FC;\n",
              "    }\n",
              "\n",
              "    [theme=dark] .colab-df-convert:hover {\n",
              "      background-color: #434B5C;\n",
              "      box-shadow: 0px 1px 3px 1px rgba(0, 0, 0, 0.15);\n",
              "      filter: drop-shadow(0px 1px 2px rgba(0, 0, 0, 0.3));\n",
              "      fill: #FFFFFF;\n",
              "    }\n",
              "  </style>\n",
              "\n",
              "    <script>\n",
              "      const buttonEl =\n",
              "        document.querySelector('#df-f94222ec-c251-4bb1-ba26-7cef57496d41 button.colab-df-convert');\n",
              "      buttonEl.style.display =\n",
              "        google.colab.kernel.accessAllowed ? 'block' : 'none';\n",
              "\n",
              "      async function convertToInteractive(key) {\n",
              "        const element = document.querySelector('#df-f94222ec-c251-4bb1-ba26-7cef57496d41');\n",
              "        const dataTable =\n",
              "          await google.colab.kernel.invokeFunction('convertToInteractive',\n",
              "                                                    [key], {});\n",
              "        if (!dataTable) return;\n",
              "\n",
              "        const docLinkHtml = 'Like what you see? Visit the ' +\n",
              "          '<a target=\"_blank\" href=https://colab.research.google.com/notebooks/data_table.ipynb>data table notebook</a>'\n",
              "          + ' to learn more about interactive tables.';\n",
              "        element.innerHTML = '';\n",
              "        dataTable['output_type'] = 'display_data';\n",
              "        await google.colab.output.renderOutput(dataTable, element);\n",
              "        const docLink = document.createElement('div');\n",
              "        docLink.innerHTML = docLinkHtml;\n",
              "        element.appendChild(docLink);\n",
              "      }\n",
              "    </script>\n",
              "  </div>\n",
              "\n",
              "\n",
              "<div id=\"df-0a1d4d74-230f-4f82-93f4-4bc52507094f\">\n",
              "  <button class=\"colab-df-quickchart\" onclick=\"quickchart('df-0a1d4d74-230f-4f82-93f4-4bc52507094f')\"\n",
              "            title=\"Suggest charts\"\n",
              "            style=\"display:none;\">\n",
              "\n",
              "<svg xmlns=\"http://www.w3.org/2000/svg\" height=\"24px\"viewBox=\"0 0 24 24\"\n",
              "     width=\"24px\">\n",
              "    <g>\n",
              "        <path d=\"M19 3H5c-1.1 0-2 .9-2 2v14c0 1.1.9 2 2 2h14c1.1 0 2-.9 2-2V5c0-1.1-.9-2-2-2zM9 17H7v-7h2v7zm4 0h-2V7h2v10zm4 0h-2v-4h2v4z\"/>\n",
              "    </g>\n",
              "</svg>\n",
              "  </button>\n",
              "\n",
              "<style>\n",
              "  .colab-df-quickchart {\n",
              "      --bg-color: #E8F0FE;\n",
              "      --fill-color: #1967D2;\n",
              "      --hover-bg-color: #E2EBFA;\n",
              "      --hover-fill-color: #174EA6;\n",
              "      --disabled-fill-color: #AAA;\n",
              "      --disabled-bg-color: #DDD;\n",
              "  }\n",
              "\n",
              "  [theme=dark] .colab-df-quickchart {\n",
              "      --bg-color: #3B4455;\n",
              "      --fill-color: #D2E3FC;\n",
              "      --hover-bg-color: #434B5C;\n",
              "      --hover-fill-color: #FFFFFF;\n",
              "      --disabled-bg-color: #3B4455;\n",
              "      --disabled-fill-color: #666;\n",
              "  }\n",
              "\n",
              "  .colab-df-quickchart {\n",
              "    background-color: var(--bg-color);\n",
              "    border: none;\n",
              "    border-radius: 50%;\n",
              "    cursor: pointer;\n",
              "    display: none;\n",
              "    fill: var(--fill-color);\n",
              "    height: 32px;\n",
              "    padding: 0;\n",
              "    width: 32px;\n",
              "  }\n",
              "\n",
              "  .colab-df-quickchart:hover {\n",
              "    background-color: var(--hover-bg-color);\n",
              "    box-shadow: 0 1px 2px rgba(60, 64, 67, 0.3), 0 1px 3px 1px rgba(60, 64, 67, 0.15);\n",
              "    fill: var(--button-hover-fill-color);\n",
              "  }\n",
              "\n",
              "  .colab-df-quickchart-complete:disabled,\n",
              "  .colab-df-quickchart-complete:disabled:hover {\n",
              "    background-color: var(--disabled-bg-color);\n",
              "    fill: var(--disabled-fill-color);\n",
              "    box-shadow: none;\n",
              "  }\n",
              "\n",
              "  .colab-df-spinner {\n",
              "    border: 2px solid var(--fill-color);\n",
              "    border-color: transparent;\n",
              "    border-bottom-color: var(--fill-color);\n",
              "    animation:\n",
              "      spin 1s steps(1) infinite;\n",
              "  }\n",
              "\n",
              "  @keyframes spin {\n",
              "    0% {\n",
              "      border-color: transparent;\n",
              "      border-bottom-color: var(--fill-color);\n",
              "      border-left-color: var(--fill-color);\n",
              "    }\n",
              "    20% {\n",
              "      border-color: transparent;\n",
              "      border-left-color: var(--fill-color);\n",
              "      border-top-color: var(--fill-color);\n",
              "    }\n",
              "    30% {\n",
              "      border-color: transparent;\n",
              "      border-left-color: var(--fill-color);\n",
              "      border-top-color: var(--fill-color);\n",
              "      border-right-color: var(--fill-color);\n",
              "    }\n",
              "    40% {\n",
              "      border-color: transparent;\n",
              "      border-right-color: var(--fill-color);\n",
              "      border-top-color: var(--fill-color);\n",
              "    }\n",
              "    60% {\n",
              "      border-color: transparent;\n",
              "      border-right-color: var(--fill-color);\n",
              "    }\n",
              "    80% {\n",
              "      border-color: transparent;\n",
              "      border-right-color: var(--fill-color);\n",
              "      border-bottom-color: var(--fill-color);\n",
              "    }\n",
              "    90% {\n",
              "      border-color: transparent;\n",
              "      border-bottom-color: var(--fill-color);\n",
              "    }\n",
              "  }\n",
              "</style>\n",
              "\n",
              "  <script>\n",
              "    async function quickchart(key) {\n",
              "      const quickchartButtonEl =\n",
              "        document.querySelector('#' + key + ' button');\n",
              "      quickchartButtonEl.disabled = true;  // To prevent multiple clicks.\n",
              "      quickchartButtonEl.classList.add('colab-df-spinner');\n",
              "      try {\n",
              "        const charts = await google.colab.kernel.invokeFunction(\n",
              "            'suggestCharts', [key], {});\n",
              "      } catch (error) {\n",
              "        console.error('Error during call to suggestCharts:', error);\n",
              "      }\n",
              "      quickchartButtonEl.classList.remove('colab-df-spinner');\n",
              "      quickchartButtonEl.classList.add('colab-df-quickchart-complete');\n",
              "    }\n",
              "    (() => {\n",
              "      let quickchartButtonEl =\n",
              "        document.querySelector('#df-0a1d4d74-230f-4f82-93f4-4bc52507094f button');\n",
              "      quickchartButtonEl.style.display =\n",
              "        google.colab.kernel.accessAllowed ? 'block' : 'none';\n",
              "    })();\n",
              "  </script>\n",
              "</div>\n",
              "    </div>\n",
              "  </div>\n"
            ],
            "application/vnd.google.colaboratory.intrinsic+json": {
              "type": "dataframe",
              "variable_name": "df",
              "summary": "{\n  \"name\": \"df\",\n  \"rows\": 35815,\n  \"fields\": [\n    {\n      \"column\": \"EmployeeName\",\n      \"properties\": {\n        \"dtype\": \"string\",\n        \"samples\": [\n          \"MARSHA HALLER-SANCHEZ\",\n          \"CUI YU LIANG\",\n          \"ALEX HONG\"\n        ],\n        \"num_unique_values\": 33579,\n        \"semantic_type\": \"\",\n        \"description\": \"\"\n      }\n    },\n    {\n      \"column\": \"Patient_id\",\n      \"properties\": {\n        \"dtype\": \"string\",\n        \"samples\": [\n          \"PT31695\",\n          \"PT29404\",\n          \"PT29283\"\n        ],\n        \"num_unique_values\": 35814,\n        \"semantic_type\": \"\",\n        \"description\": \"\"\n      }\n    },\n    {\n      \"column\": \"gender\",\n      \"properties\": {\n        \"dtype\": \"category\",\n        \"samples\": [\n          \"Female\",\n          \"Male\",\n          \"Other\"\n        ],\n        \"num_unique_values\": 3,\n        \"semantic_type\": \"\",\n        \"description\": \"\"\n      }\n    },\n    {\n      \"column\": \"age\",\n      \"properties\": {\n        \"dtype\": \"number\",\n        \"std\": 22.502883405253073,\n        \"min\": 0.08,\n        \"max\": 80.0,\n        \"samples\": [\n          29.0,\n          39.0,\n          16.0\n        ],\n        \"num_unique_values\": 102,\n        \"semantic_type\": \"\",\n        \"description\": \"\"\n      }\n    },\n    {\n      \"column\": \"hypertension\",\n      \"properties\": {\n        \"dtype\": \"number\",\n        \"std\": 0.26563231180131974,\n        \"min\": 0.0,\n        \"max\": 1.0,\n        \"samples\": [\n          1.0,\n          0.0\n        ],\n        \"num_unique_values\": 2,\n        \"semantic_type\": \"\",\n        \"description\": \"\"\n      }\n    },\n    {\n      \"column\": \"heart_disease\",\n      \"properties\": {\n        \"dtype\": \"number\",\n        \"std\": 0.19321514153869682,\n        \"min\": 0.0,\n        \"max\": 1.0,\n        \"samples\": [\n          0.0,\n          1.0\n        ],\n        \"num_unique_values\": 2,\n        \"semantic_type\": \"\",\n        \"description\": \"\"\n      }\n    },\n    {\n      \"column\": \"smoking_history\",\n      \"properties\": {\n        \"dtype\": \"category\",\n        \"samples\": [\n          \"never\",\n          \"No Info\"\n        ],\n        \"num_unique_values\": 6,\n        \"semantic_type\": \"\",\n        \"description\": \"\"\n      }\n    },\n    {\n      \"column\": \"bmi\",\n      \"properties\": {\n        \"dtype\": \"number\",\n        \"std\": 6.663594684435285,\n        \"min\": 10.01,\n        \"max\": 88.72,\n        \"samples\": [\n          18.92,\n          49.97\n        ],\n        \"num_unique_values\": 3579,\n        \"semantic_type\": \"\",\n        \"description\": \"\"\n      }\n    },\n    {\n      \"column\": \"HbA1c_level\",\n      \"properties\": {\n        \"dtype\": \"number\",\n        \"std\": 1.075300857585368,\n        \"min\": 3.5,\n        \"max\": 9.0,\n        \"samples\": [\n          6.6,\n          5.7\n        ],\n        \"num_unique_values\": 18,\n        \"semantic_type\": \"\",\n        \"description\": \"\"\n      }\n    },\n    {\n      \"column\": \"blood_glucose_level\",\n      \"properties\": {\n        \"dtype\": \"number\",\n        \"std\": 41.12136743352489,\n        \"min\": 80.0,\n        \"max\": 300.0,\n        \"samples\": [\n          140.0,\n          80.0\n        ],\n        \"num_unique_values\": 18,\n        \"semantic_type\": \"\",\n        \"description\": \"\"\n      }\n    },\n    {\n      \"column\": \"diabetes\",\n      \"properties\": {\n        \"dtype\": \"number\",\n        \"std\": 0.28102637671258046,\n        \"min\": 0.0,\n        \"max\": 1.0,\n        \"samples\": [\n          1.0,\n          0.0\n        ],\n        \"num_unique_values\": 2,\n        \"semantic_type\": \"\",\n        \"description\": \"\"\n      }\n    }\n  ]\n}"
            }
          },
          "metadata": {},
          "execution_count": 4
        }
      ]
    },
    {
      "cell_type": "markdown",
      "source": [
        "* In the below code, the shape of the dataset is envisioned.\n",
        "* From the result of the below code, we can infer that the shape of the dataset is (100000,11) which means it has 1 lakh rows and 11 columns."
      ],
      "metadata": {
        "id": "vaLKtixDVU_a"
      }
    },
    {
      "cell_type": "code",
      "source": [
        "df.shape"
      ],
      "metadata": {
        "colab": {
          "base_uri": "https://localhost:8080/"
        },
        "id": "1YFO8twfU_XT",
        "outputId": "322dbf82-ef0a-419b-c95a-c3c2ee4de5de"
      },
      "execution_count": 5,
      "outputs": [
        {
          "output_type": "execute_result",
          "data": {
            "text/plain": [
              "(35815, 11)"
            ]
          },
          "metadata": {},
          "execution_count": 5
        }
      ]
    },
    {
      "cell_type": "markdown",
      "source": [
        "* In the below code, the size of the dataset is envisioned.\n",
        "* From the result of the below code, we can infer that the total no of values/information present in the dataset is 1100000."
      ],
      "metadata": {
        "id": "ynzZP4khVeTs"
      }
    },
    {
      "cell_type": "code",
      "source": [
        "df.size"
      ],
      "metadata": {
        "colab": {
          "base_uri": "https://localhost:8080/"
        },
        "id": "7ihC3oqVVkWw",
        "outputId": "5da3bf05-b8f3-4e21-e1a1-6193c41b07ec"
      },
      "execution_count": 6,
      "outputs": [
        {
          "output_type": "execute_result",
          "data": {
            "text/plain": [
              "393965"
            ]
          },
          "metadata": {},
          "execution_count": 6
        }
      ]
    },
    {
      "cell_type": "markdown",
      "source": [
        "* In the below code, the columns that are there in the dataset is derived.\n",
        "* From the result of the below code, we can infer that there are 11 columns with names,\n",
        " * 'employeeName'\n",
        " * 'Patient_id'\n",
        " * 'gender'\n",
        " * 'age'\n",
        " * 'hypertension'\n",
        " * 'heart_disease\n",
        " * 'smoking_history'\n",
        " * 'bmi'\n",
        " * 'HbA1c_level'\n",
        " * 'blood_glucose_level'\n",
        " * 'diabetes'\n"
      ],
      "metadata": {
        "id": "YtvqtIoTVo5L"
      }
    },
    {
      "cell_type": "code",
      "source": [
        "df.columns"
      ],
      "metadata": {
        "colab": {
          "base_uri": "https://localhost:8080/"
        },
        "id": "xvqX9x3CVnL_",
        "outputId": "455da65b-3787-4969-9191-fb3f01bc7fd7"
      },
      "execution_count": 7,
      "outputs": [
        {
          "output_type": "execute_result",
          "data": {
            "text/plain": [
              "Index(['EmployeeName', 'Patient_id', 'gender', 'age', 'hypertension',\n",
              "       'heart_disease', 'smoking_history', 'bmi', 'HbA1c_level',\n",
              "       'blood_glucose_level', 'diabetes'],\n",
              "      dtype='object')"
            ]
          },
          "metadata": {},
          "execution_count": 7
        }
      ]
    },
    {
      "cell_type": "markdown",
      "source": [
        "* In the below code, the datatypes of each of the columns is derived.\n",
        "* From the result of the below code, we can infer the datastypes of each of the columns which are mainly,\n",
        " * Object  - Anything that is assigned to the variable\n",
        " * int64 - 64 int integer\n",
        " * float64 - double precision float"
      ],
      "metadata": {
        "id": "gU5qIqZ_V1oZ"
      }
    },
    {
      "cell_type": "code",
      "source": [
        "df.dtypes"
      ],
      "metadata": {
        "colab": {
          "base_uri": "https://localhost:8080/"
        },
        "id": "DyP_F6DvWCTI",
        "outputId": "d76ee921-9148-4317-d97d-f7ee8332ebda"
      },
      "execution_count": 8,
      "outputs": [
        {
          "output_type": "execute_result",
          "data": {
            "text/plain": [
              "EmployeeName            object\n",
              "Patient_id              object\n",
              "gender                  object\n",
              "age                    float64\n",
              "hypertension           float64\n",
              "heart_disease          float64\n",
              "smoking_history         object\n",
              "bmi                    float64\n",
              "HbA1c_level            float64\n",
              "blood_glucose_level    float64\n",
              "diabetes               float64\n",
              "dtype: object"
            ]
          },
          "metadata": {},
          "execution_count": 8
        }
      ]
    },
    {
      "cell_type": "markdown",
      "source": [
        "In the below code,\n",
        "The first ten rows are called with the help of the function ***head()*** which will helps us to get the first few rows of the dataset.\n",
        "* It depends on the number that is given inside the brackets.\n",
        "* By default, it will give us the 1st five rows of the dataset."
      ],
      "metadata": {
        "id": "tzq0dTBtZzTM"
      }
    },
    {
      "cell_type": "code",
      "source": [
        "df.head(10)"
      ],
      "metadata": {
        "colab": {
          "base_uri": "https://localhost:8080/",
          "height": 501
        },
        "id": "QlgbqI4pZslm",
        "outputId": "5ec00e87-bbd6-4968-e42b-07b874e9054f"
      },
      "execution_count": 9,
      "outputs": [
        {
          "output_type": "execute_result",
          "data": {
            "text/plain": [
              "         EmployeeName Patient_id  gender   age  hypertension  heart_disease  \\\n",
              "0      NATHANIEL FORD      PT101  Female  80.0           0.0            1.0   \n",
              "1        GARY JIMENEZ      PT102  Female  54.0           0.0            0.0   \n",
              "2      ALBERT PARDINI      PT103    Male  28.0           0.0            0.0   \n",
              "3   CHRISTOPHER CHONG      PT104  Female  36.0           0.0            0.0   \n",
              "4     PATRICK GARDNER      PT105    Male  76.0           1.0            1.0   \n",
              "5      DAVID SULLIVAN      PT106  Female  20.0           0.0            0.0   \n",
              "6           ALSON LEE      PT107  Female  44.0           0.0            0.0   \n",
              "7       DAVID KUSHNER      PT108  Female  79.0           0.0            0.0   \n",
              "8      MICHAEL MORRIS      PT109    Male  42.0           0.0            0.0   \n",
              "9  JOANNE HAYES-WHITE      PT110  Female  32.0           0.0            0.0   \n",
              "\n",
              "  smoking_history    bmi  HbA1c_level  blood_glucose_level  diabetes  \n",
              "0           never  25.19          6.6                140.0       0.0  \n",
              "1         No Info  27.32          6.6                 80.0       0.0  \n",
              "2           never  27.32          5.7                158.0       0.0  \n",
              "3         current  23.45          5.0                155.0       0.0  \n",
              "4         current  20.14          4.8                155.0       0.0  \n",
              "5           never  27.32          6.6                 85.0       0.0  \n",
              "6           never  19.31          6.5                200.0       1.0  \n",
              "7         No Info  23.86          5.7                 85.0       0.0  \n",
              "8           never  33.64          4.8                145.0       0.0  \n",
              "9           never  27.32          5.0                100.0       0.0  "
            ],
            "text/html": [
              "\n",
              "  <div id=\"df-a84cd9a0-46cf-431c-a641-f10b7c7a3352\" class=\"colab-df-container\">\n",
              "    <div>\n",
              "<style scoped>\n",
              "    .dataframe tbody tr th:only-of-type {\n",
              "        vertical-align: middle;\n",
              "    }\n",
              "\n",
              "    .dataframe tbody tr th {\n",
              "        vertical-align: top;\n",
              "    }\n",
              "\n",
              "    .dataframe thead th {\n",
              "        text-align: right;\n",
              "    }\n",
              "</style>\n",
              "<table border=\"1\" class=\"dataframe\">\n",
              "  <thead>\n",
              "    <tr style=\"text-align: right;\">\n",
              "      <th></th>\n",
              "      <th>EmployeeName</th>\n",
              "      <th>Patient_id</th>\n",
              "      <th>gender</th>\n",
              "      <th>age</th>\n",
              "      <th>hypertension</th>\n",
              "      <th>heart_disease</th>\n",
              "      <th>smoking_history</th>\n",
              "      <th>bmi</th>\n",
              "      <th>HbA1c_level</th>\n",
              "      <th>blood_glucose_level</th>\n",
              "      <th>diabetes</th>\n",
              "    </tr>\n",
              "  </thead>\n",
              "  <tbody>\n",
              "    <tr>\n",
              "      <th>0</th>\n",
              "      <td>NATHANIEL FORD</td>\n",
              "      <td>PT101</td>\n",
              "      <td>Female</td>\n",
              "      <td>80.0</td>\n",
              "      <td>0.0</td>\n",
              "      <td>1.0</td>\n",
              "      <td>never</td>\n",
              "      <td>25.19</td>\n",
              "      <td>6.6</td>\n",
              "      <td>140.0</td>\n",
              "      <td>0.0</td>\n",
              "    </tr>\n",
              "    <tr>\n",
              "      <th>1</th>\n",
              "      <td>GARY JIMENEZ</td>\n",
              "      <td>PT102</td>\n",
              "      <td>Female</td>\n",
              "      <td>54.0</td>\n",
              "      <td>0.0</td>\n",
              "      <td>0.0</td>\n",
              "      <td>No Info</td>\n",
              "      <td>27.32</td>\n",
              "      <td>6.6</td>\n",
              "      <td>80.0</td>\n",
              "      <td>0.0</td>\n",
              "    </tr>\n",
              "    <tr>\n",
              "      <th>2</th>\n",
              "      <td>ALBERT PARDINI</td>\n",
              "      <td>PT103</td>\n",
              "      <td>Male</td>\n",
              "      <td>28.0</td>\n",
              "      <td>0.0</td>\n",
              "      <td>0.0</td>\n",
              "      <td>never</td>\n",
              "      <td>27.32</td>\n",
              "      <td>5.7</td>\n",
              "      <td>158.0</td>\n",
              "      <td>0.0</td>\n",
              "    </tr>\n",
              "    <tr>\n",
              "      <th>3</th>\n",
              "      <td>CHRISTOPHER CHONG</td>\n",
              "      <td>PT104</td>\n",
              "      <td>Female</td>\n",
              "      <td>36.0</td>\n",
              "      <td>0.0</td>\n",
              "      <td>0.0</td>\n",
              "      <td>current</td>\n",
              "      <td>23.45</td>\n",
              "      <td>5.0</td>\n",
              "      <td>155.0</td>\n",
              "      <td>0.0</td>\n",
              "    </tr>\n",
              "    <tr>\n",
              "      <th>4</th>\n",
              "      <td>PATRICK GARDNER</td>\n",
              "      <td>PT105</td>\n",
              "      <td>Male</td>\n",
              "      <td>76.0</td>\n",
              "      <td>1.0</td>\n",
              "      <td>1.0</td>\n",
              "      <td>current</td>\n",
              "      <td>20.14</td>\n",
              "      <td>4.8</td>\n",
              "      <td>155.0</td>\n",
              "      <td>0.0</td>\n",
              "    </tr>\n",
              "    <tr>\n",
              "      <th>5</th>\n",
              "      <td>DAVID SULLIVAN</td>\n",
              "      <td>PT106</td>\n",
              "      <td>Female</td>\n",
              "      <td>20.0</td>\n",
              "      <td>0.0</td>\n",
              "      <td>0.0</td>\n",
              "      <td>never</td>\n",
              "      <td>27.32</td>\n",
              "      <td>6.6</td>\n",
              "      <td>85.0</td>\n",
              "      <td>0.0</td>\n",
              "    </tr>\n",
              "    <tr>\n",
              "      <th>6</th>\n",
              "      <td>ALSON LEE</td>\n",
              "      <td>PT107</td>\n",
              "      <td>Female</td>\n",
              "      <td>44.0</td>\n",
              "      <td>0.0</td>\n",
              "      <td>0.0</td>\n",
              "      <td>never</td>\n",
              "      <td>19.31</td>\n",
              "      <td>6.5</td>\n",
              "      <td>200.0</td>\n",
              "      <td>1.0</td>\n",
              "    </tr>\n",
              "    <tr>\n",
              "      <th>7</th>\n",
              "      <td>DAVID KUSHNER</td>\n",
              "      <td>PT108</td>\n",
              "      <td>Female</td>\n",
              "      <td>79.0</td>\n",
              "      <td>0.0</td>\n",
              "      <td>0.0</td>\n",
              "      <td>No Info</td>\n",
              "      <td>23.86</td>\n",
              "      <td>5.7</td>\n",
              "      <td>85.0</td>\n",
              "      <td>0.0</td>\n",
              "    </tr>\n",
              "    <tr>\n",
              "      <th>8</th>\n",
              "      <td>MICHAEL MORRIS</td>\n",
              "      <td>PT109</td>\n",
              "      <td>Male</td>\n",
              "      <td>42.0</td>\n",
              "      <td>0.0</td>\n",
              "      <td>0.0</td>\n",
              "      <td>never</td>\n",
              "      <td>33.64</td>\n",
              "      <td>4.8</td>\n",
              "      <td>145.0</td>\n",
              "      <td>0.0</td>\n",
              "    </tr>\n",
              "    <tr>\n",
              "      <th>9</th>\n",
              "      <td>JOANNE HAYES-WHITE</td>\n",
              "      <td>PT110</td>\n",
              "      <td>Female</td>\n",
              "      <td>32.0</td>\n",
              "      <td>0.0</td>\n",
              "      <td>0.0</td>\n",
              "      <td>never</td>\n",
              "      <td>27.32</td>\n",
              "      <td>5.0</td>\n",
              "      <td>100.0</td>\n",
              "      <td>0.0</td>\n",
              "    </tr>\n",
              "  </tbody>\n",
              "</table>\n",
              "</div>\n",
              "    <div class=\"colab-df-buttons\">\n",
              "\n",
              "  <div class=\"colab-df-container\">\n",
              "    <button class=\"colab-df-convert\" onclick=\"convertToInteractive('df-a84cd9a0-46cf-431c-a641-f10b7c7a3352')\"\n",
              "            title=\"Convert this dataframe to an interactive table.\"\n",
              "            style=\"display:none;\">\n",
              "\n",
              "  <svg xmlns=\"http://www.w3.org/2000/svg\" height=\"24px\" viewBox=\"0 -960 960 960\">\n",
              "    <path d=\"M120-120v-720h720v720H120Zm60-500h600v-160H180v160Zm220 220h160v-160H400v160Zm0 220h160v-160H400v160ZM180-400h160v-160H180v160Zm440 0h160v-160H620v160ZM180-180h160v-160H180v160Zm440 0h160v-160H620v160Z\"/>\n",
              "  </svg>\n",
              "    </button>\n",
              "\n",
              "  <style>\n",
              "    .colab-df-container {\n",
              "      display:flex;\n",
              "      gap: 12px;\n",
              "    }\n",
              "\n",
              "    .colab-df-convert {\n",
              "      background-color: #E8F0FE;\n",
              "      border: none;\n",
              "      border-radius: 50%;\n",
              "      cursor: pointer;\n",
              "      display: none;\n",
              "      fill: #1967D2;\n",
              "      height: 32px;\n",
              "      padding: 0 0 0 0;\n",
              "      width: 32px;\n",
              "    }\n",
              "\n",
              "    .colab-df-convert:hover {\n",
              "      background-color: #E2EBFA;\n",
              "      box-shadow: 0px 1px 2px rgba(60, 64, 67, 0.3), 0px 1px 3px 1px rgba(60, 64, 67, 0.15);\n",
              "      fill: #174EA6;\n",
              "    }\n",
              "\n",
              "    .colab-df-buttons div {\n",
              "      margin-bottom: 4px;\n",
              "    }\n",
              "\n",
              "    [theme=dark] .colab-df-convert {\n",
              "      background-color: #3B4455;\n",
              "      fill: #D2E3FC;\n",
              "    }\n",
              "\n",
              "    [theme=dark] .colab-df-convert:hover {\n",
              "      background-color: #434B5C;\n",
              "      box-shadow: 0px 1px 3px 1px rgba(0, 0, 0, 0.15);\n",
              "      filter: drop-shadow(0px 1px 2px rgba(0, 0, 0, 0.3));\n",
              "      fill: #FFFFFF;\n",
              "    }\n",
              "  </style>\n",
              "\n",
              "    <script>\n",
              "      const buttonEl =\n",
              "        document.querySelector('#df-a84cd9a0-46cf-431c-a641-f10b7c7a3352 button.colab-df-convert');\n",
              "      buttonEl.style.display =\n",
              "        google.colab.kernel.accessAllowed ? 'block' : 'none';\n",
              "\n",
              "      async function convertToInteractive(key) {\n",
              "        const element = document.querySelector('#df-a84cd9a0-46cf-431c-a641-f10b7c7a3352');\n",
              "        const dataTable =\n",
              "          await google.colab.kernel.invokeFunction('convertToInteractive',\n",
              "                                                    [key], {});\n",
              "        if (!dataTable) return;\n",
              "\n",
              "        const docLinkHtml = 'Like what you see? Visit the ' +\n",
              "          '<a target=\"_blank\" href=https://colab.research.google.com/notebooks/data_table.ipynb>data table notebook</a>'\n",
              "          + ' to learn more about interactive tables.';\n",
              "        element.innerHTML = '';\n",
              "        dataTable['output_type'] = 'display_data';\n",
              "        await google.colab.output.renderOutput(dataTable, element);\n",
              "        const docLink = document.createElement('div');\n",
              "        docLink.innerHTML = docLinkHtml;\n",
              "        element.appendChild(docLink);\n",
              "      }\n",
              "    </script>\n",
              "  </div>\n",
              "\n",
              "\n",
              "<div id=\"df-1ac455f6-2685-4c66-a557-8d5a59634efb\">\n",
              "  <button class=\"colab-df-quickchart\" onclick=\"quickchart('df-1ac455f6-2685-4c66-a557-8d5a59634efb')\"\n",
              "            title=\"Suggest charts\"\n",
              "            style=\"display:none;\">\n",
              "\n",
              "<svg xmlns=\"http://www.w3.org/2000/svg\" height=\"24px\"viewBox=\"0 0 24 24\"\n",
              "     width=\"24px\">\n",
              "    <g>\n",
              "        <path d=\"M19 3H5c-1.1 0-2 .9-2 2v14c0 1.1.9 2 2 2h14c1.1 0 2-.9 2-2V5c0-1.1-.9-2-2-2zM9 17H7v-7h2v7zm4 0h-2V7h2v10zm4 0h-2v-4h2v4z\"/>\n",
              "    </g>\n",
              "</svg>\n",
              "  </button>\n",
              "\n",
              "<style>\n",
              "  .colab-df-quickchart {\n",
              "      --bg-color: #E8F0FE;\n",
              "      --fill-color: #1967D2;\n",
              "      --hover-bg-color: #E2EBFA;\n",
              "      --hover-fill-color: #174EA6;\n",
              "      --disabled-fill-color: #AAA;\n",
              "      --disabled-bg-color: #DDD;\n",
              "  }\n",
              "\n",
              "  [theme=dark] .colab-df-quickchart {\n",
              "      --bg-color: #3B4455;\n",
              "      --fill-color: #D2E3FC;\n",
              "      --hover-bg-color: #434B5C;\n",
              "      --hover-fill-color: #FFFFFF;\n",
              "      --disabled-bg-color: #3B4455;\n",
              "      --disabled-fill-color: #666;\n",
              "  }\n",
              "\n",
              "  .colab-df-quickchart {\n",
              "    background-color: var(--bg-color);\n",
              "    border: none;\n",
              "    border-radius: 50%;\n",
              "    cursor: pointer;\n",
              "    display: none;\n",
              "    fill: var(--fill-color);\n",
              "    height: 32px;\n",
              "    padding: 0;\n",
              "    width: 32px;\n",
              "  }\n",
              "\n",
              "  .colab-df-quickchart:hover {\n",
              "    background-color: var(--hover-bg-color);\n",
              "    box-shadow: 0 1px 2px rgba(60, 64, 67, 0.3), 0 1px 3px 1px rgba(60, 64, 67, 0.15);\n",
              "    fill: var(--button-hover-fill-color);\n",
              "  }\n",
              "\n",
              "  .colab-df-quickchart-complete:disabled,\n",
              "  .colab-df-quickchart-complete:disabled:hover {\n",
              "    background-color: var(--disabled-bg-color);\n",
              "    fill: var(--disabled-fill-color);\n",
              "    box-shadow: none;\n",
              "  }\n",
              "\n",
              "  .colab-df-spinner {\n",
              "    border: 2px solid var(--fill-color);\n",
              "    border-color: transparent;\n",
              "    border-bottom-color: var(--fill-color);\n",
              "    animation:\n",
              "      spin 1s steps(1) infinite;\n",
              "  }\n",
              "\n",
              "  @keyframes spin {\n",
              "    0% {\n",
              "      border-color: transparent;\n",
              "      border-bottom-color: var(--fill-color);\n",
              "      border-left-color: var(--fill-color);\n",
              "    }\n",
              "    20% {\n",
              "      border-color: transparent;\n",
              "      border-left-color: var(--fill-color);\n",
              "      border-top-color: var(--fill-color);\n",
              "    }\n",
              "    30% {\n",
              "      border-color: transparent;\n",
              "      border-left-color: var(--fill-color);\n",
              "      border-top-color: var(--fill-color);\n",
              "      border-right-color: var(--fill-color);\n",
              "    }\n",
              "    40% {\n",
              "      border-color: transparent;\n",
              "      border-right-color: var(--fill-color);\n",
              "      border-top-color: var(--fill-color);\n",
              "    }\n",
              "    60% {\n",
              "      border-color: transparent;\n",
              "      border-right-color: var(--fill-color);\n",
              "    }\n",
              "    80% {\n",
              "      border-color: transparent;\n",
              "      border-right-color: var(--fill-color);\n",
              "      border-bottom-color: var(--fill-color);\n",
              "    }\n",
              "    90% {\n",
              "      border-color: transparent;\n",
              "      border-bottom-color: var(--fill-color);\n",
              "    }\n",
              "  }\n",
              "</style>\n",
              "\n",
              "  <script>\n",
              "    async function quickchart(key) {\n",
              "      const quickchartButtonEl =\n",
              "        document.querySelector('#' + key + ' button');\n",
              "      quickchartButtonEl.disabled = true;  // To prevent multiple clicks.\n",
              "      quickchartButtonEl.classList.add('colab-df-spinner');\n",
              "      try {\n",
              "        const charts = await google.colab.kernel.invokeFunction(\n",
              "            'suggestCharts', [key], {});\n",
              "      } catch (error) {\n",
              "        console.error('Error during call to suggestCharts:', error);\n",
              "      }\n",
              "      quickchartButtonEl.classList.remove('colab-df-spinner');\n",
              "      quickchartButtonEl.classList.add('colab-df-quickchart-complete');\n",
              "    }\n",
              "    (() => {\n",
              "      let quickchartButtonEl =\n",
              "        document.querySelector('#df-1ac455f6-2685-4c66-a557-8d5a59634efb button');\n",
              "      quickchartButtonEl.style.display =\n",
              "        google.colab.kernel.accessAllowed ? 'block' : 'none';\n",
              "    })();\n",
              "  </script>\n",
              "</div>\n",
              "    </div>\n",
              "  </div>\n"
            ],
            "application/vnd.google.colaboratory.intrinsic+json": {
              "type": "dataframe",
              "variable_name": "df",
              "summary": "{\n  \"name\": \"df\",\n  \"rows\": 35815,\n  \"fields\": [\n    {\n      \"column\": \"EmployeeName\",\n      \"properties\": {\n        \"dtype\": \"string\",\n        \"samples\": [\n          \"MARSHA HALLER-SANCHEZ\",\n          \"CUI YU LIANG\",\n          \"ALEX HONG\"\n        ],\n        \"num_unique_values\": 33579,\n        \"semantic_type\": \"\",\n        \"description\": \"\"\n      }\n    },\n    {\n      \"column\": \"Patient_id\",\n      \"properties\": {\n        \"dtype\": \"string\",\n        \"samples\": [\n          \"PT31695\",\n          \"PT29404\",\n          \"PT29283\"\n        ],\n        \"num_unique_values\": 35814,\n        \"semantic_type\": \"\",\n        \"description\": \"\"\n      }\n    },\n    {\n      \"column\": \"gender\",\n      \"properties\": {\n        \"dtype\": \"category\",\n        \"samples\": [\n          \"Female\",\n          \"Male\",\n          \"Other\"\n        ],\n        \"num_unique_values\": 3,\n        \"semantic_type\": \"\",\n        \"description\": \"\"\n      }\n    },\n    {\n      \"column\": \"age\",\n      \"properties\": {\n        \"dtype\": \"number\",\n        \"std\": 22.502883405253073,\n        \"min\": 0.08,\n        \"max\": 80.0,\n        \"samples\": [\n          29.0,\n          39.0,\n          16.0\n        ],\n        \"num_unique_values\": 102,\n        \"semantic_type\": \"\",\n        \"description\": \"\"\n      }\n    },\n    {\n      \"column\": \"hypertension\",\n      \"properties\": {\n        \"dtype\": \"number\",\n        \"std\": 0.26563231180131974,\n        \"min\": 0.0,\n        \"max\": 1.0,\n        \"samples\": [\n          1.0,\n          0.0\n        ],\n        \"num_unique_values\": 2,\n        \"semantic_type\": \"\",\n        \"description\": \"\"\n      }\n    },\n    {\n      \"column\": \"heart_disease\",\n      \"properties\": {\n        \"dtype\": \"number\",\n        \"std\": 0.19321514153869682,\n        \"min\": 0.0,\n        \"max\": 1.0,\n        \"samples\": [\n          0.0,\n          1.0\n        ],\n        \"num_unique_values\": 2,\n        \"semantic_type\": \"\",\n        \"description\": \"\"\n      }\n    },\n    {\n      \"column\": \"smoking_history\",\n      \"properties\": {\n        \"dtype\": \"category\",\n        \"samples\": [\n          \"never\",\n          \"No Info\"\n        ],\n        \"num_unique_values\": 6,\n        \"semantic_type\": \"\",\n        \"description\": \"\"\n      }\n    },\n    {\n      \"column\": \"bmi\",\n      \"properties\": {\n        \"dtype\": \"number\",\n        \"std\": 6.663594684435285,\n        \"min\": 10.01,\n        \"max\": 88.72,\n        \"samples\": [\n          18.92,\n          49.97\n        ],\n        \"num_unique_values\": 3579,\n        \"semantic_type\": \"\",\n        \"description\": \"\"\n      }\n    },\n    {\n      \"column\": \"HbA1c_level\",\n      \"properties\": {\n        \"dtype\": \"number\",\n        \"std\": 1.075300857585368,\n        \"min\": 3.5,\n        \"max\": 9.0,\n        \"samples\": [\n          6.6,\n          5.7\n        ],\n        \"num_unique_values\": 18,\n        \"semantic_type\": \"\",\n        \"description\": \"\"\n      }\n    },\n    {\n      \"column\": \"blood_glucose_level\",\n      \"properties\": {\n        \"dtype\": \"number\",\n        \"std\": 41.12136743352489,\n        \"min\": 80.0,\n        \"max\": 300.0,\n        \"samples\": [\n          140.0,\n          80.0\n        ],\n        \"num_unique_values\": 18,\n        \"semantic_type\": \"\",\n        \"description\": \"\"\n      }\n    },\n    {\n      \"column\": \"diabetes\",\n      \"properties\": {\n        \"dtype\": \"number\",\n        \"std\": 0.28102637671258046,\n        \"min\": 0.0,\n        \"max\": 1.0,\n        \"samples\": [\n          1.0,\n          0.0\n        ],\n        \"num_unique_values\": 2,\n        \"semantic_type\": \"\",\n        \"description\": \"\"\n      }\n    }\n  ]\n}"
            }
          },
          "metadata": {},
          "execution_count": 9
        }
      ]
    },
    {
      "cell_type": "markdown",
      "source": [
        "* In the below code, we are checking whether there are any null values present in the dataset.\n",
        "* From the result of the below code, we can infer that there are no null values in the dataset."
      ],
      "metadata": {
        "id": "-PyHJSveamtt"
      }
    },
    {
      "cell_type": "code",
      "source": [
        "df.isnull().count()"
      ],
      "metadata": {
        "colab": {
          "base_uri": "https://localhost:8080/"
        },
        "id": "w42-niVqanMu",
        "outputId": "7f8e668f-c10a-43f5-bafe-cd40f31eaafb"
      },
      "execution_count": 10,
      "outputs": [
        {
          "output_type": "execute_result",
          "data": {
            "text/plain": [
              "EmployeeName           35815\n",
              "Patient_id             35815\n",
              "gender                 35815\n",
              "age                    35815\n",
              "hypertension           35815\n",
              "heart_disease          35815\n",
              "smoking_history        35815\n",
              "bmi                    35815\n",
              "HbA1c_level            35815\n",
              "blood_glucose_level    35815\n",
              "diabetes               35815\n",
              "dtype: int64"
            ]
          },
          "metadata": {},
          "execution_count": 10
        }
      ]
    },
    {
      "cell_type": "markdown",
      "source": [
        "* The below code gives the information about the dataset.\n",
        "* The information like,\n",
        " * Column names\n",
        " * Count of Null and Non-Null values\n",
        " * Datatypes of all the columns\n",
        " * Memory usage"
      ],
      "metadata": {
        "id": "CabIKKQ3bvfG"
      }
    },
    {
      "cell_type": "code",
      "source": [
        "df.info()"
      ],
      "metadata": {
        "colab": {
          "base_uri": "https://localhost:8080/"
        },
        "id": "tc72iiPdbv3z",
        "outputId": "52bb84d3-d681-47d2-a3bc-0f55893f2bec"
      },
      "execution_count": 11,
      "outputs": [
        {
          "output_type": "stream",
          "name": "stdout",
          "text": [
            "<class 'pandas.core.frame.DataFrame'>\n",
            "RangeIndex: 35815 entries, 0 to 35814\n",
            "Data columns (total 11 columns):\n",
            " #   Column               Non-Null Count  Dtype  \n",
            "---  ------               --------------  -----  \n",
            " 0   EmployeeName         35815 non-null  object \n",
            " 1   Patient_id           35814 non-null  object \n",
            " 2   gender               35814 non-null  object \n",
            " 3   age                  35814 non-null  float64\n",
            " 4   hypertension         35814 non-null  float64\n",
            " 5   heart_disease        35814 non-null  float64\n",
            " 6   smoking_history      35814 non-null  object \n",
            " 7   bmi                  35814 non-null  float64\n",
            " 8   HbA1c_level          35814 non-null  float64\n",
            " 9   blood_glucose_level  35814 non-null  float64\n",
            " 10  diabetes             35814 non-null  float64\n",
            "dtypes: float64(7), object(4)\n",
            "memory usage: 3.0+ MB\n"
          ]
        }
      ]
    },
    {
      "cell_type": "markdown",
      "source": [
        "* In the below codee, we use the describe() function to get the descriptive statistics of the given dataframe.\n",
        "* The result of the function includes information about numerical data and the information are,\n",
        " * count\n",
        " * mean\n",
        " * standard deviation\n",
        " * minimum value(min)\n",
        " * maximum value(max)\n",
        " * 25% - Lower Percentile\n",
        " * 50% - Median\n",
        " * 75% - Upper Percentile"
      ],
      "metadata": {
        "id": "_K6G4qEEcWje"
      }
    },
    {
      "cell_type": "code",
      "source": [
        "df.describe()"
      ],
      "metadata": {
        "colab": {
          "base_uri": "https://localhost:8080/",
          "height": 300
        },
        "id": "mz1QQ9iXcW6O",
        "outputId": "36163d34-fcb5-40e1-b40a-e7b1f18f2db2"
      },
      "execution_count": 12,
      "outputs": [
        {
          "output_type": "execute_result",
          "data": {
            "text/plain": [
              "                age  hypertension  heart_disease           bmi   HbA1c_level  \\\n",
              "count  35814.000000  35814.000000   35814.000000  35814.000000  35814.000000   \n",
              "mean      41.906415      0.076395       0.038840     27.346004      5.525688   \n",
              "std       22.502883      0.265632       0.193215      6.663595      1.075301   \n",
              "min        0.080000      0.000000       0.000000     10.010000      3.500000   \n",
              "25%       24.000000      0.000000       0.000000     23.660000      4.800000   \n",
              "50%       43.000000      0.000000       0.000000     27.320000      5.800000   \n",
              "75%       60.000000      0.000000       0.000000     29.600000      6.200000   \n",
              "max       80.000000      1.000000       1.000000     88.720000      9.000000   \n",
              "\n",
              "       blood_glucose_level      diabetes  \n",
              "count         35814.000000  35814.000000  \n",
              "mean            137.863852      0.086447  \n",
              "std              41.121367      0.281026  \n",
              "min              80.000000      0.000000  \n",
              "25%             100.000000      0.000000  \n",
              "50%             140.000000      0.000000  \n",
              "75%             159.000000      0.000000  \n",
              "max             300.000000      1.000000  "
            ],
            "text/html": [
              "\n",
              "  <div id=\"df-60008400-cec6-4aa6-a69b-e0997352bd18\" class=\"colab-df-container\">\n",
              "    <div>\n",
              "<style scoped>\n",
              "    .dataframe tbody tr th:only-of-type {\n",
              "        vertical-align: middle;\n",
              "    }\n",
              "\n",
              "    .dataframe tbody tr th {\n",
              "        vertical-align: top;\n",
              "    }\n",
              "\n",
              "    .dataframe thead th {\n",
              "        text-align: right;\n",
              "    }\n",
              "</style>\n",
              "<table border=\"1\" class=\"dataframe\">\n",
              "  <thead>\n",
              "    <tr style=\"text-align: right;\">\n",
              "      <th></th>\n",
              "      <th>age</th>\n",
              "      <th>hypertension</th>\n",
              "      <th>heart_disease</th>\n",
              "      <th>bmi</th>\n",
              "      <th>HbA1c_level</th>\n",
              "      <th>blood_glucose_level</th>\n",
              "      <th>diabetes</th>\n",
              "    </tr>\n",
              "  </thead>\n",
              "  <tbody>\n",
              "    <tr>\n",
              "      <th>count</th>\n",
              "      <td>35814.000000</td>\n",
              "      <td>35814.000000</td>\n",
              "      <td>35814.000000</td>\n",
              "      <td>35814.000000</td>\n",
              "      <td>35814.000000</td>\n",
              "      <td>35814.000000</td>\n",
              "      <td>35814.000000</td>\n",
              "    </tr>\n",
              "    <tr>\n",
              "      <th>mean</th>\n",
              "      <td>41.906415</td>\n",
              "      <td>0.076395</td>\n",
              "      <td>0.038840</td>\n",
              "      <td>27.346004</td>\n",
              "      <td>5.525688</td>\n",
              "      <td>137.863852</td>\n",
              "      <td>0.086447</td>\n",
              "    </tr>\n",
              "    <tr>\n",
              "      <th>std</th>\n",
              "      <td>22.502883</td>\n",
              "      <td>0.265632</td>\n",
              "      <td>0.193215</td>\n",
              "      <td>6.663595</td>\n",
              "      <td>1.075301</td>\n",
              "      <td>41.121367</td>\n",
              "      <td>0.281026</td>\n",
              "    </tr>\n",
              "    <tr>\n",
              "      <th>min</th>\n",
              "      <td>0.080000</td>\n",
              "      <td>0.000000</td>\n",
              "      <td>0.000000</td>\n",
              "      <td>10.010000</td>\n",
              "      <td>3.500000</td>\n",
              "      <td>80.000000</td>\n",
              "      <td>0.000000</td>\n",
              "    </tr>\n",
              "    <tr>\n",
              "      <th>25%</th>\n",
              "      <td>24.000000</td>\n",
              "      <td>0.000000</td>\n",
              "      <td>0.000000</td>\n",
              "      <td>23.660000</td>\n",
              "      <td>4.800000</td>\n",
              "      <td>100.000000</td>\n",
              "      <td>0.000000</td>\n",
              "    </tr>\n",
              "    <tr>\n",
              "      <th>50%</th>\n",
              "      <td>43.000000</td>\n",
              "      <td>0.000000</td>\n",
              "      <td>0.000000</td>\n",
              "      <td>27.320000</td>\n",
              "      <td>5.800000</td>\n",
              "      <td>140.000000</td>\n",
              "      <td>0.000000</td>\n",
              "    </tr>\n",
              "    <tr>\n",
              "      <th>75%</th>\n",
              "      <td>60.000000</td>\n",
              "      <td>0.000000</td>\n",
              "      <td>0.000000</td>\n",
              "      <td>29.600000</td>\n",
              "      <td>6.200000</td>\n",
              "      <td>159.000000</td>\n",
              "      <td>0.000000</td>\n",
              "    </tr>\n",
              "    <tr>\n",
              "      <th>max</th>\n",
              "      <td>80.000000</td>\n",
              "      <td>1.000000</td>\n",
              "      <td>1.000000</td>\n",
              "      <td>88.720000</td>\n",
              "      <td>9.000000</td>\n",
              "      <td>300.000000</td>\n",
              "      <td>1.000000</td>\n",
              "    </tr>\n",
              "  </tbody>\n",
              "</table>\n",
              "</div>\n",
              "    <div class=\"colab-df-buttons\">\n",
              "\n",
              "  <div class=\"colab-df-container\">\n",
              "    <button class=\"colab-df-convert\" onclick=\"convertToInteractive('df-60008400-cec6-4aa6-a69b-e0997352bd18')\"\n",
              "            title=\"Convert this dataframe to an interactive table.\"\n",
              "            style=\"display:none;\">\n",
              "\n",
              "  <svg xmlns=\"http://www.w3.org/2000/svg\" height=\"24px\" viewBox=\"0 -960 960 960\">\n",
              "    <path d=\"M120-120v-720h720v720H120Zm60-500h600v-160H180v160Zm220 220h160v-160H400v160Zm0 220h160v-160H400v160ZM180-400h160v-160H180v160Zm440 0h160v-160H620v160ZM180-180h160v-160H180v160Zm440 0h160v-160H620v160Z\"/>\n",
              "  </svg>\n",
              "    </button>\n",
              "\n",
              "  <style>\n",
              "    .colab-df-container {\n",
              "      display:flex;\n",
              "      gap: 12px;\n",
              "    }\n",
              "\n",
              "    .colab-df-convert {\n",
              "      background-color: #E8F0FE;\n",
              "      border: none;\n",
              "      border-radius: 50%;\n",
              "      cursor: pointer;\n",
              "      display: none;\n",
              "      fill: #1967D2;\n",
              "      height: 32px;\n",
              "      padding: 0 0 0 0;\n",
              "      width: 32px;\n",
              "    }\n",
              "\n",
              "    .colab-df-convert:hover {\n",
              "      background-color: #E2EBFA;\n",
              "      box-shadow: 0px 1px 2px rgba(60, 64, 67, 0.3), 0px 1px 3px 1px rgba(60, 64, 67, 0.15);\n",
              "      fill: #174EA6;\n",
              "    }\n",
              "\n",
              "    .colab-df-buttons div {\n",
              "      margin-bottom: 4px;\n",
              "    }\n",
              "\n",
              "    [theme=dark] .colab-df-convert {\n",
              "      background-color: #3B4455;\n",
              "      fill: #D2E3FC;\n",
              "    }\n",
              "\n",
              "    [theme=dark] .colab-df-convert:hover {\n",
              "      background-color: #434B5C;\n",
              "      box-shadow: 0px 1px 3px 1px rgba(0, 0, 0, 0.15);\n",
              "      filter: drop-shadow(0px 1px 2px rgba(0, 0, 0, 0.3));\n",
              "      fill: #FFFFFF;\n",
              "    }\n",
              "  </style>\n",
              "\n",
              "    <script>\n",
              "      const buttonEl =\n",
              "        document.querySelector('#df-60008400-cec6-4aa6-a69b-e0997352bd18 button.colab-df-convert');\n",
              "      buttonEl.style.display =\n",
              "        google.colab.kernel.accessAllowed ? 'block' : 'none';\n",
              "\n",
              "      async function convertToInteractive(key) {\n",
              "        const element = document.querySelector('#df-60008400-cec6-4aa6-a69b-e0997352bd18');\n",
              "        const dataTable =\n",
              "          await google.colab.kernel.invokeFunction('convertToInteractive',\n",
              "                                                    [key], {});\n",
              "        if (!dataTable) return;\n",
              "\n",
              "        const docLinkHtml = 'Like what you see? Visit the ' +\n",
              "          '<a target=\"_blank\" href=https://colab.research.google.com/notebooks/data_table.ipynb>data table notebook</a>'\n",
              "          + ' to learn more about interactive tables.';\n",
              "        element.innerHTML = '';\n",
              "        dataTable['output_type'] = 'display_data';\n",
              "        await google.colab.output.renderOutput(dataTable, element);\n",
              "        const docLink = document.createElement('div');\n",
              "        docLink.innerHTML = docLinkHtml;\n",
              "        element.appendChild(docLink);\n",
              "      }\n",
              "    </script>\n",
              "  </div>\n",
              "\n",
              "\n",
              "<div id=\"df-8383cb00-5996-43f4-9feb-13282caefa58\">\n",
              "  <button class=\"colab-df-quickchart\" onclick=\"quickchart('df-8383cb00-5996-43f4-9feb-13282caefa58')\"\n",
              "            title=\"Suggest charts\"\n",
              "            style=\"display:none;\">\n",
              "\n",
              "<svg xmlns=\"http://www.w3.org/2000/svg\" height=\"24px\"viewBox=\"0 0 24 24\"\n",
              "     width=\"24px\">\n",
              "    <g>\n",
              "        <path d=\"M19 3H5c-1.1 0-2 .9-2 2v14c0 1.1.9 2 2 2h14c1.1 0 2-.9 2-2V5c0-1.1-.9-2-2-2zM9 17H7v-7h2v7zm4 0h-2V7h2v10zm4 0h-2v-4h2v4z\"/>\n",
              "    </g>\n",
              "</svg>\n",
              "  </button>\n",
              "\n",
              "<style>\n",
              "  .colab-df-quickchart {\n",
              "      --bg-color: #E8F0FE;\n",
              "      --fill-color: #1967D2;\n",
              "      --hover-bg-color: #E2EBFA;\n",
              "      --hover-fill-color: #174EA6;\n",
              "      --disabled-fill-color: #AAA;\n",
              "      --disabled-bg-color: #DDD;\n",
              "  }\n",
              "\n",
              "  [theme=dark] .colab-df-quickchart {\n",
              "      --bg-color: #3B4455;\n",
              "      --fill-color: #D2E3FC;\n",
              "      --hover-bg-color: #434B5C;\n",
              "      --hover-fill-color: #FFFFFF;\n",
              "      --disabled-bg-color: #3B4455;\n",
              "      --disabled-fill-color: #666;\n",
              "  }\n",
              "\n",
              "  .colab-df-quickchart {\n",
              "    background-color: var(--bg-color);\n",
              "    border: none;\n",
              "    border-radius: 50%;\n",
              "    cursor: pointer;\n",
              "    display: none;\n",
              "    fill: var(--fill-color);\n",
              "    height: 32px;\n",
              "    padding: 0;\n",
              "    width: 32px;\n",
              "  }\n",
              "\n",
              "  .colab-df-quickchart:hover {\n",
              "    background-color: var(--hover-bg-color);\n",
              "    box-shadow: 0 1px 2px rgba(60, 64, 67, 0.3), 0 1px 3px 1px rgba(60, 64, 67, 0.15);\n",
              "    fill: var(--button-hover-fill-color);\n",
              "  }\n",
              "\n",
              "  .colab-df-quickchart-complete:disabled,\n",
              "  .colab-df-quickchart-complete:disabled:hover {\n",
              "    background-color: var(--disabled-bg-color);\n",
              "    fill: var(--disabled-fill-color);\n",
              "    box-shadow: none;\n",
              "  }\n",
              "\n",
              "  .colab-df-spinner {\n",
              "    border: 2px solid var(--fill-color);\n",
              "    border-color: transparent;\n",
              "    border-bottom-color: var(--fill-color);\n",
              "    animation:\n",
              "      spin 1s steps(1) infinite;\n",
              "  }\n",
              "\n",
              "  @keyframes spin {\n",
              "    0% {\n",
              "      border-color: transparent;\n",
              "      border-bottom-color: var(--fill-color);\n",
              "      border-left-color: var(--fill-color);\n",
              "    }\n",
              "    20% {\n",
              "      border-color: transparent;\n",
              "      border-left-color: var(--fill-color);\n",
              "      border-top-color: var(--fill-color);\n",
              "    }\n",
              "    30% {\n",
              "      border-color: transparent;\n",
              "      border-left-color: var(--fill-color);\n",
              "      border-top-color: var(--fill-color);\n",
              "      border-right-color: var(--fill-color);\n",
              "    }\n",
              "    40% {\n",
              "      border-color: transparent;\n",
              "      border-right-color: var(--fill-color);\n",
              "      border-top-color: var(--fill-color);\n",
              "    }\n",
              "    60% {\n",
              "      border-color: transparent;\n",
              "      border-right-color: var(--fill-color);\n",
              "    }\n",
              "    80% {\n",
              "      border-color: transparent;\n",
              "      border-right-color: var(--fill-color);\n",
              "      border-bottom-color: var(--fill-color);\n",
              "    }\n",
              "    90% {\n",
              "      border-color: transparent;\n",
              "      border-bottom-color: var(--fill-color);\n",
              "    }\n",
              "  }\n",
              "</style>\n",
              "\n",
              "  <script>\n",
              "    async function quickchart(key) {\n",
              "      const quickchartButtonEl =\n",
              "        document.querySelector('#' + key + ' button');\n",
              "      quickchartButtonEl.disabled = true;  // To prevent multiple clicks.\n",
              "      quickchartButtonEl.classList.add('colab-df-spinner');\n",
              "      try {\n",
              "        const charts = await google.colab.kernel.invokeFunction(\n",
              "            'suggestCharts', [key], {});\n",
              "      } catch (error) {\n",
              "        console.error('Error during call to suggestCharts:', error);\n",
              "      }\n",
              "      quickchartButtonEl.classList.remove('colab-df-spinner');\n",
              "      quickchartButtonEl.classList.add('colab-df-quickchart-complete');\n",
              "    }\n",
              "    (() => {\n",
              "      let quickchartButtonEl =\n",
              "        document.querySelector('#df-8383cb00-5996-43f4-9feb-13282caefa58 button');\n",
              "      quickchartButtonEl.style.display =\n",
              "        google.colab.kernel.accessAllowed ? 'block' : 'none';\n",
              "    })();\n",
              "  </script>\n",
              "</div>\n",
              "    </div>\n",
              "  </div>\n"
            ],
            "application/vnd.google.colaboratory.intrinsic+json": {
              "type": "dataframe",
              "summary": "{\n  \"name\": \"df\",\n  \"rows\": 8,\n  \"fields\": [\n    {\n      \"column\": \"age\",\n      \"properties\": {\n        \"dtype\": \"number\",\n        \"std\": 12648.472331766976,\n        \"min\": 0.08,\n        \"max\": 35814.0,\n        \"samples\": [\n          41.90641536829173,\n          43.0,\n          35814.0\n        ],\n        \"num_unique_values\": 8,\n        \"semantic_type\": \"\",\n        \"description\": \"\"\n      }\n    },\n    {\n      \"column\": \"hypertension\",\n      \"properties\": {\n        \"dtype\": \"number\",\n        \"std\": 12662.093352727848,\n        \"min\": 0.0,\n        \"max\": 35814.0,\n        \"samples\": [\n          0.07639470598090133,\n          1.0,\n          0.26563231180131974\n        ],\n        \"num_unique_values\": 5,\n        \"semantic_type\": \"\",\n        \"description\": \"\"\n      }\n    },\n    {\n      \"column\": \"heart_disease\",\n      \"properties\": {\n        \"dtype\": \"number\",\n        \"std\": 12662.09890718487,\n        \"min\": 0.0,\n        \"max\": 35814.0,\n        \"samples\": [\n          0.038839559948623446,\n          1.0,\n          0.19321514153869682\n        ],\n        \"num_unique_values\": 5,\n        \"semantic_type\": \"\",\n        \"description\": \"\"\n      }\n    },\n    {\n      \"column\": \"bmi\",\n      \"properties\": {\n        \"dtype\": \"number\",\n        \"std\": 12651.411961304802,\n        \"min\": 6.663594684435285,\n        \"max\": 35814.0,\n        \"samples\": [\n          27.346003797397668,\n          27.32,\n          35814.0\n        ],\n        \"num_unique_values\": 8,\n        \"semantic_type\": \"\",\n        \"description\": \"\"\n      }\n    },\n    {\n      \"column\": \"HbA1c_level\",\n      \"properties\": {\n        \"dtype\": \"number\",\n        \"std\": 12660.348059665585,\n        \"min\": 1.075300857585368,\n        \"max\": 35814.0,\n        \"samples\": [\n          5.5256882783269115,\n          5.8,\n          35814.0\n        ],\n        \"num_unique_values\": 8,\n        \"semantic_type\": \"\",\n        \"description\": \"\"\n      }\n    },\n    {\n      \"column\": \"blood_glucose_level\",\n      \"properties\": {\n        \"dtype\": \"number\",\n        \"std\": 12614.00702328937,\n        \"min\": 41.12136743352489,\n        \"max\": 35814.0,\n        \"samples\": [\n          137.86385212486738,\n          140.0,\n          35814.0\n        ],\n        \"num_unique_values\": 8,\n        \"semantic_type\": \"\",\n        \"description\": \"\"\n      }\n    },\n    {\n      \"column\": \"diabetes\",\n      \"properties\": {\n        \"dtype\": \"number\",\n        \"std\": 12662.092067511914,\n        \"min\": 0.0,\n        \"max\": 35814.0,\n        \"samples\": [\n          0.08644664097838833,\n          1.0,\n          0.28102637671258046\n        ],\n        \"num_unique_values\": 5,\n        \"semantic_type\": \"\",\n        \"description\": \"\"\n      }\n    }\n  ]\n}"
            }
          },
          "metadata": {},
          "execution_count": 12
        }
      ]
    },
    {
      "cell_type": "markdown",
      "source": [
        "* The below code is used to get the information about the descriptive statistics based on the gender.\n",
        "  * df.groupby('gender'): This groups the DataFrame df by the values in the 'gender' column.\n",
        "  * ['age']: This specifies that we are interested in the 'age' column of the grouped DataFrame.\n",
        "  * .describe(): This method computes summary statistics for the grouped data. It calculates count, mean, standard deviation, minimum, 25th percentile, median (50th percentile), 75th percentile, and maximum values for each group."
      ],
      "metadata": {
        "id": "iyZkDM2LfNNH"
      }
    },
    {
      "cell_type": "code",
      "source": [
        "print(df.groupby('gender')['age'].describe())"
      ],
      "metadata": {
        "colab": {
          "base_uri": "https://localhost:8080/"
        },
        "id": "cm-k646tfOKY",
        "outputId": "2b7c959d-716f-42ec-f87d-cd8d9ff0f1df"
      },
      "execution_count": 13,
      "outputs": [
        {
          "output_type": "stream",
          "name": "stdout",
          "text": [
            "          count       mean        std    min   25%   50%   75%   max\n",
            "gender                                                              \n",
            "Female  21060.0  42.431816  21.880760   0.08  25.0  43.0  59.0  80.0\n",
            "Male    14745.0  41.161704  23.345276   0.08  21.0  43.0  60.0  80.0\n",
            "Other       9.0  32.555556  17.044875  10.00  19.0  39.0  47.0  53.0\n"
          ]
        }
      ]
    },
    {
      "cell_type": "markdown",
      "source": [
        "In the below code, we converting the data to a dataframe with the help of the function pd.DataFrame()."
      ],
      "metadata": {
        "id": "L3pfTAqNeaE8"
      }
    },
    {
      "cell_type": "code",
      "source": [
        "df = pd.DataFrame(df)"
      ],
      "metadata": {
        "id": "Lo7PA0VThYj6"
      },
      "execution_count": 14,
      "outputs": []
    },
    {
      "cell_type": "markdown",
      "source": [
        "* The below code does the test statistics between female and male based on their BMI.\n",
        "  * male_hp = df[df['gender'] == 'Male']['hypertension']: This selects the Hypertension values from the DataFrame df where the gender is 'Male' and assigns them to the variable male_hp.\n",
        "\n",
        "  * female_hp = df[df['gender'] == 'Female']['hypertension']: This selects the Hypertension values from the DataFrame df where the gender is 'Female' and assigns them to the variable female_hp.\n",
        "\n",
        "  * t_statistic, p_value = stats.ttest_ind(male_hp, female_hp): This performs an independent two-sample t-test (ttest_ind) using the Hypertension values for males and females. It returns the t-statistic and the p-value."
      ],
      "metadata": {
        "id": "zdwbVE6BiqGa"
      }
    },
    {
      "cell_type": "code",
      "source": [
        "# Parametric tests - Example: t-test for comparing Hypertension between Male and Female populations\n",
        "male_hp = df[df['gender'] == 'Male']['hypertension']\n",
        "female_hp = df[df['gender'] == 'Female']['hypertension']\n",
        "\n",
        "t_statistic, p_value = stats.ttest_ind(male_hp, female_hp)\n",
        "\n",
        "print(\"\\nT-test results for Hypertension between Male and Female populations:\")\n",
        "print(\"T-statistic:\", t_statistic)\n",
        "print(\"P-value:\", p_value)"
      ],
      "metadata": {
        "colab": {
          "base_uri": "https://localhost:8080/"
        },
        "id": "O2In4g1dhedi",
        "outputId": "19c82c35-5ce9-4e5e-e6a3-63e6e0ffcbf4"
      },
      "execution_count": 15,
      "outputs": [
        {
          "output_type": "stream",
          "name": "stdout",
          "text": [
            "\n",
            "T-test results for Hypertension between Male and Female populations:\n",
            "T-statistic: 2.476950625392691\n",
            "P-value: 0.01325560519815839\n"
          ]
        }
      ]
    },
    {
      "cell_type": "markdown",
      "source": [
        "* In the above code, we are comaring whether the hypertension between male and female populations are equal or not which is the Null Hypothesis.\n",
        "  * From the above code, we infer that the p-value = 5.428e-06 is less than the level of significance 0.05 which means that the **Null hypothesis is rejected**.\n",
        "  * Hence, we can conclude that the Hypertension between the Male and Female Populations are not equal"
      ],
      "metadata": {
        "id": "DGwxSGAsloGV"
      }
    },
    {
      "cell_type": "markdown",
      "source": [
        "* Data Selection:\n",
        "  * female_bgl = df[df['gender'] == 'Female']['blood_glucose_level']: This line selects the blood glucose level data from the DataFrame df where the gender is 'Female' and stores it in the variable female_bgl.\n",
        "\n",
        "* Normal Distribution Fitting:\n",
        " * mu, sigma = stats.norm.fit(female_bgl): This line fits a normal distribution to the data using the norm.fit function from scipy.stats.\n",
        " * It estimates the parameters of the normal distribution (mean and standard deviation) that best fit the data.\n",
        " * The variable mu represents the mean of the fitted distribution, and sigma represents the standard deviation."
      ],
      "metadata": {
        "id": "3I_H0NyJnOY_"
      }
    },
    {
      "cell_type": "code",
      "source": [
        "# Parametric modeling - Example: Fitting a normal distribution to female Blood Glucose Level\n",
        "female_bgl = df[df['gender'] == 'Female']['blood_glucose_level']\n",
        "mu, sigma = stats.norm.fit(female_bgl)\n",
        "print(\"\\nParameters of the fitted normal distribution for female Blood Glucose Level:\")\n",
        "print(\"Mean (mu):\", mu)\n",
        "print(\"Standard deviation (sigma):\", sigma)"
      ],
      "metadata": {
        "colab": {
          "base_uri": "https://localhost:8080/"
        },
        "id": "Q2xFGOyBnPRR",
        "outputId": "895f04a4-584f-4682-daa2-a7da343326fb"
      },
      "execution_count": 16,
      "outputs": [
        {
          "output_type": "stream",
          "name": "stdout",
          "text": [
            "\n",
            "Parameters of the fitted normal distribution for female Blood Glucose Level:\n",
            "Mean (mu): 137.38907882241216\n",
            "Standard deviation (sigma): 40.70497465236439\n"
          ]
        }
      ]
    },
    {
      "cell_type": "markdown",
      "source": [
        "From the result code, we can infer that,\n",
        "* Mean (mu): The mean of the fitted normal distribution is approximately 137.47. This represents the average blood glucose level for females in the dataset.\n",
        "\n",
        "* Standard deviation (sigma): The standard deviation of the fitted normal distribution is approximately 40.10. This measures the spread or variability of blood glucose levels among females in the dataset. A higher standard deviation indicates more variability around the mean.\n",
        "\n",
        "* These parameters provide insights into the central tendency and variability of blood glucose levels among females in the dataset."
      ],
      "metadata": {
        "id": "e1xsb7qxZill"
      }
    },
    {
      "cell_type": "markdown",
      "source": [
        "The below code explains,\n",
        "* Count Plot Creation:\n",
        " * cht1 = sns.countplot(data=df, x='diabetes'): This line creates a count plot using Seaborn's countplot function.\n",
        " * It specifies the DataFrame (data=df) and the column (x='diabetes') to plot.\n",
        "* Adding Value Labels:\n",
        " * cht1.bar_label(cht1.containers[0]): This line adds labels to the bars of the count plot.\n",
        " * It uses the bar_label method of the count plot object (cht1) and passes the container of bars (cht1.containers[0]) to add labels to each bar.\n",
        "* Plot Display:\n",
        " * plt.show(): This line displays the count plot."
      ],
      "metadata": {
        "id": "AVCco3bUbmLy"
      }
    },
    {
      "cell_type": "code",
      "source": [
        "cht1 = sns.countplot(data = df, x ='diabetes')\n",
        "cht1.bar_label(cht1.containers[0])\n",
        "plt.show()"
      ],
      "metadata": {
        "colab": {
          "base_uri": "https://localhost:8080/",
          "height": 449
        },
        "id": "FcHt15BQeazq",
        "outputId": "4f5630a3-00ef-48e6-f9e4-b956f73d2331"
      },
      "execution_count": 17,
      "outputs": [
        {
          "output_type": "display_data",
          "data": {
            "text/plain": [
              "<Figure size 640x480 with 1 Axes>"
            ],
            "image/png": "[encoded data removed]"
          },
          "metadata": {}
        }
      ]
    },
    {
      "cell_type": "markdown",
      "source": [
        "The below code explains,\n",
        "* Data Selection:\n",
        " * male_bgl = df[df['gender'] == 'Male']['blood_glucose_level']: This line selects the blood glucose level data from the DataFrame df where the gender is 'Male' and stores it in the variable male_bgl.\n",
        "* Q-Q Plot Generation:\n",
        " * stats.probplot(male_bgl, dist=\"norm\", plot=plt): This line generates a Q-Q plot using the probplot function from scipy.stats.\n",
        " * It compares the quantiles of the male blood glucose level data (male_bgl) against the quantiles of a normal distribution (dist=\"norm\").\n",
        " * The plot=plt parameter indicates that the plot should be displayed using the Matplotlib plt module.\n",
        "* Plot Customization:\n",
        " * plt.title(\"Q-Q plot for Male Heights\"): This line sets the title of the plot to \"Q-Q plot for Male Heights\".\n",
        "* Plot Display:\n",
        " * plt.show(): This line displays the generated Q-Q plot."
      ],
      "metadata": {
        "id": "0OD288alavT5"
      }
    },
    {
      "cell_type": "code",
      "source": [
        "# Probability plots - Example: Q-Q plot for male Blood Glucose Level\n",
        "print(\"\\nProbability plot for male Blood Glucose Level:\")\n",
        "male_bgl = df[df['gender'] == 'Male']['blood_glucose_level']\n",
        "stats.probplot(male_bgl, dist=\"norm\", plot=plt)\n",
        "plt.title(\"Q-Q plot for Male Blood Glucose Level\")\n",
        "plt.show()"
      ],
      "metadata": {
        "colab": {
          "base_uri": "https://localhost:8080/",
          "height": 507
        },
        "id": "99zDBKcmZ8rW",
        "outputId": "e3bdef85-b1b4-4e4e-88ab-e837e5689ab5"
      },
      "execution_count": 18,
      "outputs": [
        {
          "output_type": "stream",
          "name": "stdout",
          "text": [
            "\n",
            "Probability plot for male Blood Glucose Level:\n"
          ]
        },
        {
          "output_type": "display_data",
          "data": {
            "text/plain": [
              "<Figure size 640x480 with 1 Axes>"
            ],
            "image/png": "[encoded data removed]"
          },
          "metadata": {}
        }
      ]
    },
    {
      "cell_type": "markdown",
      "source": [
        "The below code explains,\n",
        "* Data Selection:\n",
        " * female_HbA1c = df[df['gender'] == 'Male']['HbA1c_level']: This line selects the HbA1c level data from the DataFrame df where the gender is 'Male' and stores it in the variable female_HbA1c.\n",
        " * It seems there's a mistake here where it says 'Male' but it's supposed to be 'Female' since we're referring to female HbA1c levels.\n",
        "* Histogram Plot:\n",
        " * plt.hist(female_HbA1c, bins=5, density=True, alpha=0.6, color='g', label='Female HbA1c'): This line plots a histogram of the HbA1c levels for females.\n",
        " * Parameters like bins, density, alpha, color, and label control the appearance of the histogram.\n",
        "* Fitted Normal Distribution Curve:\n",
        " * x = np.linspace(xmin, xmax, 100): This line creates a range of x-values for the normal distribution curve, spanning from xmin to xmax.\n",
        " * p = stats.norm.pdf(x, mu, sigma): This line calculates the probability density function (PDF) values for the fitted normal distribution using the mean (mu) and standard deviation (sigma) obtained earlier.\n",
        " * plt.plot(x, p, 'k', linewidth=2, label='Fitted Normal Distribution'): This line plots the fitted normal distribution curve on the histogram plot.\n",
        " * Parameters like 'k' for color, linewidth, and label control the appearance and labeling of the curve.\n",
        "* Plot Customization:\n",
        " * plt.xlabel('Height'): This line sets the label for the x-axis.\n",
        " * plt.ylabel('Density'): This line sets the label for the y-axis.\n",
        " * plt.title('Histogram and Fitted Normal Distribution for Female HbA1c'): This line sets the title of the plot.\n",
        " * plt.legend(): This line adds a legend to the plot, incorporating labels specified earlier.\n",
        "* Plot Display:\n",
        " * plt.show(): This line displays the histogram with the fitted normal distribution curve."
      ],
      "metadata": {
        "id": "e7I3YjMwenrg"
      }
    },
    {
      "cell_type": "code",
      "source": [
        "# Plot histogram and fitted normal distribution\n",
        "female_HbA1c = df[df['gender'] == 'Female']['HbA1c_level']\n",
        "plt.hist(female_HbA1c, bins=5, density=True, alpha=0.6, color='g', label='Female HbA1c')\n",
        "xmin, xmax = plt.xlim()\n",
        "x = np.linspace(xmin, xmax, 100)\n",
        "p = stats.norm.pdf(x, mu, sigma)\n",
        "plt.plot(x, p, 'k', linewidth=2, label='Fitted Normal Distribution')\n",
        "plt.xlabel('Height')\n",
        "plt.ylabel('Density')\n",
        "plt.title('Histogram and Fitted Normal Distribution for Female HbA1c')\n",
        "plt.legend()\n",
        "plt.show()"
      ],
      "metadata": {
        "colab": {
          "base_uri": "https://localhost:8080/",
          "height": 472
        },
        "id": "HShZMxxTb-QU",
        "outputId": "2102a646-d7e9-444b-8bc5-5118f88ad0d0"
      },
      "execution_count": 22,
      "outputs": [
        {
          "output_type": "display_data",
          "data": {
            "text/plain": [
              "<Figure size 640x480 with 1 Axes>"
            ],
            "image/png": "[encoded data removed]"
          },
          "metadata": {}
        }
      ]
    },
    {
      "cell_type": "markdown",
      "source": [
        "* The below code explains,\n",
        " * Histogram Plot Creation:\n",
        "   * cht2 = sns.histplot(data=df, x='gender', kde=True, hue='smoking_history'): This line creates a histogram plot using Seaborn's histplot function.\n",
        "   *  It specifies the DataFrame (data=df), the column to plot (x='gender'), and enables KDE estimation (kde=True). Additionally, it uses the 'smoking_history' column to differentiate the histograms by hue.\n",
        " * Plot Display:\n",
        "   * plt.show(): This line displays the histogram plot created using Seaborn."
      ],
      "metadata": {
        "id": "RHta-bxofhk3"
      }
    },
    {
      "cell_type": "code",
      "source": [
        "cht2 = sns.histplot(data = df, x = 'gender', kde = True, hue = 'smoking_history')\n",
        "plt.show()"
      ],
      "metadata": {
        "colab": {
          "base_uri": "https://localhost:8080/",
          "height": 449
        },
        "id": "OzEekd7qdMAd",
        "outputId": "b26f05bc-23ce-4918-c497-9c5d139927ff"
      },
      "execution_count": 21,
      "outputs": [
        {
          "output_type": "display_data",
          "data": {
            "text/plain": [
              "<Figure size 640x480 with 1 Axes>"
            ],
            "image/png": "[encoded data removed]"
          },
          "metadata": {}
        }
      ]
    },
    {
      "cell_type": "markdown",
      "source": [
        "The below code explains,\n",
        "* Data Preparation:\n",
        " * labels = df['diabetes'].value_counts().index: This line extracts the unique values in the 'diabetes' column and stores them as labels.\n",
        " * values = df['diabetes'].value_counts(): This line calculates the count of each unique value in the 'diabetes' column and stores them as values.\n",
        "* Pie Chart Creation:\n",
        " * plt.pie(x=values, labels=labels, autopct='%1.1f%%', shadow=True): This line creates a pie chart using Matplotlib's pie function. It takes the values (x=values) and labels (labels=labels) as input.\n",
        " * The autopct='%1.1f%%' parameter formats the percentage values displayed on the chart with one decimal point.\n",
        " * The shadow=True parameter adds a shadow effect to the pie chart slices.\n",
        "* Plot Display:\n",
        " * plt.show(): This line displays the pie chart."
      ],
      "metadata": {
        "id": "-9_TqorIhiFN"
      }
    },
    {
      "cell_type": "code",
      "source": [
        "labels = df['diabetes'].value_counts().index\n",
        "values = df['diabetes'].value_counts()\n",
        "plt.pie(x=values,labels=labels,autopct = '%1.1f%%',shadow=True)\n",
        "plt.show()"
      ],
      "metadata": {
        "colab": {
          "base_uri": "https://localhost:8080/",
          "height": 406
        },
        "id": "cp-YsU5Ndxe2",
        "outputId": "15f660f5-94f7-4d52-a4a7-dc88c7d3f713"
      },
      "execution_count": 23,
      "outputs": [
        {
          "output_type": "display_data",
          "data": {
            "text/plain": [
              "<Figure size 640x480 with 1 Axes>"
            ],
            "image/png": "[encoded data removed]"
          },
          "metadata": {}
        }
      ]
    }
  ]
}